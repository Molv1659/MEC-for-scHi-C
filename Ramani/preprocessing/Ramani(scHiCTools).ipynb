{
 "cells": [
  {
   "cell_type": "markdown",
   "metadata": {
    "id": "BUDiJwAH0muT"
   },
   "source": [
    "# 数据处理成scHiCTools所需格式"
   ]
  },
  {
   "cell_type": "code",
   "execution_count": null,
   "metadata": {
    "colab": {
     "base_uri": "https://localhost:8080/"
    },
    "executionInfo": {
     "elapsed": 846,
     "status": "ok",
     "timestamp": 1621060365688,
     "user": {
      "displayName": "Sicheng Wang",
      "photoUrl": "https://lh3.googleusercontent.com/a-/AOh14GjGd4TielA7TOD0TBpmvgjXTnlJT_1Tjx2xnN1q=s64",
      "userId": "14545742446481527333"
     },
     "user_tz": -480
    },
    "id": "UI1rJgP51Qmf",
    "outputId": "c26ac803-fdc8-481f-8ecb-412231aefbe0"
   },
   "outputs": [
    {
     "name": "stdout",
     "output_type": "stream",
     "text": [
      "/content/drive/My Drive/毕设/data/Ramani\n"
     ]
    }
   ],
   "source": [
    "% cd /content/drive/My Drive/毕设/data/Ramani"
   ]
  },
  {
   "cell_type": "code",
   "execution_count": null,
   "metadata": {
    "id": "Kosdb35N0tZ6"
   },
   "outputs": [],
   "source": [
    "all_cells = open('all_cells.txt').readlines()\n",
    "cell_num = len(all_cells)\n",
    "num = 0\n",
    "for cellname in all_cells:\n",
    "    cellname = cellname.strip()\n",
    "    data = open('./cell_matrix_data/' + cellname + '_1000000.matrix').readlines()\n",
    "    f = open('./cell_matrix_data_schictools/' + cellname, 'w')\n",
    "    for line in data:\n",
    "        items = line.split()\n",
    "        new_line = '\\t'.join([items[4][9:], items[0], items[5][9:], items[1], items[2]])\n",
    "        f.write(new_line + '\\n')\n",
    "    f.close()\n",
    "    num = num + 1\n",
    "    if num % 10 == 0:\n",
    "        print(num)\n",
    "\n"
   ]
  },
  {
   "cell_type": "code",
   "execution_count": null,
   "metadata": {
    "colab": {
     "base_uri": "https://localhost:8080/"
    },
    "executionInfo": {
     "elapsed": 7137,
     "status": "ok",
     "timestamp": 1621060384018,
     "user": {
      "displayName": "Sicheng Wang",
      "photoUrl": "https://lh3.googleusercontent.com/a-/AOh14GjGd4TielA7TOD0TBpmvgjXTnlJT_1Tjx2xnN1q=s64",
      "userId": "14545742446481527333"
     },
     "user_tz": -480
    },
    "id": "RLyCA7xQ9IOW",
    "outputId": "cc1ae964-9b2a-49e0-8fd6-f02ba44569eb"
   },
   "outputs": [
    {
     "name": "stdout",
     "output_type": "stream",
     "text": [
      "493\n",
      "245\n",
      "193\n",
      "12\n",
      "43\n"
     ]
    }
   ],
   "source": [
    "# 检验\n",
    "import os\n",
    "file_list = os.listdir('./cell_matrix_data_schictools')\n",
    "\n",
    "num_1000000_K562 = 0\n",
    "num_1000000_GM12878 = 0\n",
    "num_1000000_HeLa = 0\n",
    "num_1000000_HAP1 = 0\n",
    "\n",
    "for name in file_list:\n",
    "    if 'K562' in name:\n",
    "        num_1000000_K562 += 1\n",
    "    elif 'GM12878' in name:\n",
    "        num_1000000_GM12878 += 1\n",
    "    elif 'HeLa' in name:\n",
    "        num_1000000_HeLa += 1\n",
    "    elif 'HAP1' in name:\n",
    "        num_1000000_HAP1 += 1\n",
    "    else:\n",
    "        continue\n",
    "print(len(file_list))\n",
    "print(num_1000000_HeLa)\n",
    "print(num_1000000_HAP1)\n",
    "print(num_1000000_GM12878)\n",
    "print(num_1000000_K562)"
   ]
  },
  {
   "cell_type": "markdown",
   "metadata": {
    "id": "i6gu207ouzEj"
   },
   "source": [
    "# 原数据统计指标"
   ]
  },
  {
   "cell_type": "code",
   "execution_count": null,
   "metadata": {
    "colab": {
     "base_uri": "https://localhost:8080/"
    },
    "executionInfo": {
     "elapsed": 421384,
     "status": "ok",
     "timestamp": 1621060912817,
     "user": {
      "displayName": "Sicheng Wang",
      "photoUrl": "https://lh3.googleusercontent.com/a-/AOh14GjGd4TielA7TOD0TBpmvgjXTnlJT_1Tjx2xnN1q=s64",
      "userId": "14545742446481527333"
     },
     "user_tz": -480
    },
    "id": "0QEAWX9ZuwpR",
    "outputId": "f69a7517-c050-4282-d871-816bdf6f8a4f"
   },
   "outputs": [
    {
     "name": "stdout",
     "output_type": "stream",
     "text": [
      "Loading HiC data...\n",
      "[==================================================] 493/493 \t"
     ]
    },
    {
     "data": {
      "image/png": "[encoded data removed]",
      "text/plain": [
       "<Figure size 432x288 with 2 Axes>"
      ]
     },
     "metadata": {
      "needs_background": "light",
      "tags": []
     },
     "output_type": "display_data"
    }
   ],
   "source": [
    "y = scHiCs(cell_files,\n",
    "        reference_genome='hg19', resolution=1000000,\n",
    "        max_distance=None, format='shortest_score',\n",
    "        adjust_resolution=False, chromosomes='except Y',\n",
    "        operations=[], kernel_shape=3, keep_n_strata=5,\n",
    "        store_full_map=True)"
   ]
  },
  {
   "cell_type": "code",
   "execution_count": null,
   "metadata": {
    "id": "gQjY1nH2xxb2"
   },
   "outputs": [],
   "source": [
    "import numpy as np\n",
    "cell_data = []\n",
    "for i in range(len(cell_files)):\n",
    "    cell_dict = {}\n",
    "    for chr in y.full_maps.keys():\n",
    "        cell_dict[chr] = y.full_maps[chr][i]\n",
    "    cell_data.append(cell_dict)"
   ]
  },
  {
   "cell_type": "code",
   "execution_count": null,
   "metadata": {
    "colab": {
     "base_uri": "https://localhost:8080/"
    },
    "executionInfo": {
     "elapsed": 870,
     "status": "ok",
     "timestamp": 1621063607027,
     "user": {
      "displayName": "Sicheng Wang",
      "photoUrl": "https://lh3.googleusercontent.com/a-/AOh14GjGd4TielA7TOD0TBpmvgjXTnlJT_1Tjx2xnN1q=s64",
      "userId": "14545742446481527333"
     },
     "user_tz": -480
    },
    "id": "0QZD1qP96xEx",
    "outputId": "294417cd-e4b9-4412-a00a-92cdf36ae5c6"
   },
   "outputs": [
    {
     "name": "stdout",
     "output_type": "stream",
     "text": [
      "(142, 142)\n",
      "(136, 136)\n",
      "(103, 103)\n",
      "(79, 79)\n",
      "(244, 244)\n",
      "(91, 91)\n",
      "(199, 199)\n",
      "(156, 156)\n",
      "(192, 192)\n",
      "(116, 116)\n",
      "(64, 64)\n",
      "(49, 49)\n",
      "(82, 82)\n",
      "(172, 172)\n",
      "(136, 136)\n",
      "(147, 147)\n",
      "(250, 250)\n",
      "(52, 52)\n",
      "(160, 160)\n",
      "(134, 134)\n",
      "(60, 60)\n",
      "(108, 108)\n",
      "(181, 181)\n"
     ]
    }
   ],
   "source": [
    "test = cell_data[0]\n",
    "for chr, matrix in test.items():\n",
    "    print(matrix.shape)"
   ]
  },
  {
   "cell_type": "code",
   "execution_count": null,
   "metadata": {
    "colab": {
     "base_uri": "https://localhost:8080/"
    },
    "executionInfo": {
     "elapsed": 5242,
     "status": "ok",
     "timestamp": 1621062753797,
     "user": {
      "displayName": "Sicheng Wang",
      "photoUrl": "https://lh3.googleusercontent.com/a-/AOh14GjGd4TielA7TOD0TBpmvgjXTnlJT_1Tjx2xnN1q=s64",
      "userId": "14545742446481527333"
     },
     "user_tz": -480
    },
    "id": "1WVksKbFxxgz",
    "outputId": "c288d0a1-cdf2-4c6b-d0c1-5dafeed7e65f"
   },
   "outputs": [
    {
     "name": "stdout",
     "output_type": "stream",
     "text": [
      "all counts:  (30082.141987829615, 7718.0, 23523.0, 264593.0)\n",
      "non_diagonal_counts:  (12319.111561866126, 3475.0, 9291.0, 109634.0)\n"
     ]
    }
   ],
   "source": [
    "def get_cell_counts(cell_dict):\n",
    "    all_count, non_diagonal_count = 0, 0\n",
    "    for chr, matrix in cell_dict.items():\n",
    "        all_count += np.triu(matrix).sum()\n",
    "        non_diagonal_count += (np.triu(matrix) - np.diag(np.diag(matrix))).sum()\n",
    "    return all_count, non_diagonal_count\n",
    "\n",
    "def cal_list(array):\n",
    "    a_min = min(array)\n",
    "    a_max = max(array)\n",
    "    sum = 0\n",
    "    for i in array:\n",
    "        sum += i\n",
    "    mean = sum / len(array)\n",
    "\n",
    "    data = sorted(array)\n",
    "    length = len(array)\n",
    "    if length%2 == 0:\n",
    "        median = (data[length//2-1] + data[length//2]) / 2\n",
    "    else:\n",
    "        median = data[(length-1)//2]\n",
    "\n",
    "    return mean, a_min, median, a_max\n",
    "\n",
    "\n",
    "def get_statistics(cell_data):\n",
    "    all_counts = [get_cell_counts(cell)[0] for cell in cell_data]\n",
    "    non_diagonal_counts = [get_cell_counts(cell)[1] for cell in cell_data]\n",
    "    print(\"all counts: \", cal_list(all_counts))\n",
    "    print(\"non_diagonal_counts: \", cal_list(non_diagonal_counts))\n",
    "\n",
    "get_statistics(cell_data)\n",
    "  \n",
    "\n"
   ]
  },
  {
   "cell_type": "markdown",
   "metadata": {
    "id": "j_23mNwZ0tgV"
   },
   "source": [
    "# 利用scHiCTools进行HiCRep"
   ]
  },
  {
   "cell_type": "markdown",
   "metadata": {},
   "source": [
    "其中用到了scHiCTools库，我在原代码基础上进行过改动，请在 https://drive.google.com/drive/folders/14LnEz-rK0-ccNST0--XRYhx9ThVzkatZ?usp=sharing 下载，整个文件夹都下载完成后cd到这个文件夹，python setup.py install进行安装。"
   ]
  },
  {
   "cell_type": "code",
   "execution_count": 1,
   "metadata": {
    "colab": {
     "base_uri": "https://localhost:8080/"
    },
    "executionInfo": {
     "elapsed": 33481,
     "status": "ok",
     "timestamp": 1621304686272,
     "user": {
      "displayName": "Sicheng Wang",
      "photoUrl": "https://lh3.googleusercontent.com/a-/AOh14GjGd4TielA7TOD0TBpmvgjXTnlJT_1Tjx2xnN1q=s64",
      "userId": "14545742446481527333"
     },
     "user_tz": -480
    },
    "id": "npFI3E71qSdX",
    "outputId": "376c3de8-dfb1-4c88-b863-f4e98191f1c0"
   },
   "outputs": [
    {
     "name": "stdout",
     "output_type": "stream",
     "text": [
      "/content/drive/MyDrive/毕设/scHiCTools\n",
      "/usr/local/lib/python3.7/dist-packages/setuptools/dist.py:672: UserWarning: Usage of dash-separated 'description-file' will not be supported in future versions. Please use the underscore name 'description_file' instead\n",
      "  % (opt, underscore_opt))\n",
      "running install\n",
      "running bdist_egg\n",
      "running egg_info\n",
      "writing scHiCTools.egg-info/PKG-INFO\n",
      "writing dependency_links to scHiCTools.egg-info/dependency_links.txt\n",
      "writing requirements to scHiCTools.egg-info/requires.txt\n",
      "writing top-level names to scHiCTools.egg-info/top_level.txt\n",
      "adding license file 'LICENSE' (matched pattern 'LICEN[CS]E*')\n",
      "reading manifest file 'scHiCTools.egg-info/SOURCES.txt'\n",
      "reading manifest template 'MANIFEST.in'\n",
      "writing manifest file 'scHiCTools.egg-info/SOURCES.txt'\n",
      "installing library code to build/bdist.linux-x86_64/egg\n",
      "running install_lib\n",
      "running build_py\n",
      "creating build/bdist.linux-x86_64/egg\n",
      "creating build/bdist.linux-x86_64/egg/scHiCTools\n",
      "copying build/lib/scHiCTools/__init__.py -> build/bdist.linux-x86_64/egg/scHiCTools\n",
      "creating build/bdist.linux-x86_64/egg/scHiCTools/analysis\n",
      "copying build/lib/scHiCTools/analysis/visualization.py -> build/bdist.linux-x86_64/egg/scHiCTools/analysis\n",
      "copying build/lib/scHiCTools/analysis/__init__.py -> build/bdist.linux-x86_64/egg/scHiCTools/analysis\n",
      "copying build/lib/scHiCTools/analysis/clustering.py -> build/bdist.linux-x86_64/egg/scHiCTools/analysis\n",
      "creating build/bdist.linux-x86_64/egg/scHiCTools/embedding\n",
      "copying build/lib/scHiCTools/embedding/embedding.py -> build/bdist.linux-x86_64/egg/scHiCTools/embedding\n",
      "copying build/lib/scHiCTools/embedding/reproducibility.py -> build/bdist.linux-x86_64/egg/scHiCTools/embedding\n",
      "copying build/lib/scHiCTools/embedding/__init__.py -> build/bdist.linux-x86_64/egg/scHiCTools/embedding\n",
      "creating build/bdist.linux-x86_64/egg/scHiCTools/load\n",
      "copying build/lib/scHiCTools/load/hic_straw.py -> build/bdist.linux-x86_64/egg/scHiCTools/load\n",
      "copying build/lib/scHiCTools/load/cool.py -> build/bdist.linux-x86_64/egg/scHiCTools/load\n",
      "copying build/lib/scHiCTools/load/__init__.py -> build/bdist.linux-x86_64/egg/scHiCTools/load\n",
      "creating build/bdist.linux-x86_64/egg/scHiCTools/load/reference_genome\n",
      "copying build/lib/scHiCTools/load/reference_genome/hg38 -> build/bdist.linux-x86_64/egg/scHiCTools/load/reference_genome\n",
      "copying build/lib/scHiCTools/load/reference_genome/mm9 -> build/bdist.linux-x86_64/egg/scHiCTools/load/reference_genome\n",
      "copying build/lib/scHiCTools/load/reference_genome/hg19 -> build/bdist.linux-x86_64/egg/scHiCTools/load/reference_genome\n",
      "copying build/lib/scHiCTools/load/reference_genome/mm10 -> build/bdist.linux-x86_64/egg/scHiCTools/load/reference_genome\n",
      "copying build/lib/scHiCTools/load/cooler_api.py -> build/bdist.linux-x86_64/egg/scHiCTools/load\n",
      "copying build/lib/scHiCTools/load/processing_utils.py -> build/bdist.linux-x86_64/egg/scHiCTools/load\n",
      "copying build/lib/scHiCTools/load/ContactMaps.py -> build/bdist.linux-x86_64/egg/scHiCTools/load\n",
      "copying build/lib/scHiCTools/load/load_hic_file.py -> build/bdist.linux-x86_64/egg/scHiCTools/load\n",
      "byte-compiling build/bdist.linux-x86_64/egg/scHiCTools/__init__.py to __init__.cpython-37.pyc\n",
      "byte-compiling build/bdist.linux-x86_64/egg/scHiCTools/analysis/visualization.py to visualization.cpython-37.pyc\n",
      "byte-compiling build/bdist.linux-x86_64/egg/scHiCTools/analysis/__init__.py to __init__.cpython-37.pyc\n",
      "byte-compiling build/bdist.linux-x86_64/egg/scHiCTools/analysis/clustering.py to clustering.cpython-37.pyc\n",
      "byte-compiling build/bdist.linux-x86_64/egg/scHiCTools/embedding/embedding.py to embedding.cpython-37.pyc\n",
      "byte-compiling build/bdist.linux-x86_64/egg/scHiCTools/embedding/reproducibility.py to reproducibility.cpython-37.pyc\n",
      "byte-compiling build/bdist.linux-x86_64/egg/scHiCTools/embedding/__init__.py to __init__.cpython-37.pyc\n",
      "byte-compiling build/bdist.linux-x86_64/egg/scHiCTools/load/hic_straw.py to hic_straw.cpython-37.pyc\n",
      "byte-compiling build/bdist.linux-x86_64/egg/scHiCTools/load/cool.py to cool.cpython-37.pyc\n",
      "byte-compiling build/bdist.linux-x86_64/egg/scHiCTools/load/__init__.py to __init__.cpython-37.pyc\n",
      "byte-compiling build/bdist.linux-x86_64/egg/scHiCTools/load/cooler_api.py to cooler_api.cpython-37.pyc\n",
      "byte-compiling build/bdist.linux-x86_64/egg/scHiCTools/load/processing_utils.py to processing_utils.cpython-37.pyc\n",
      "byte-compiling build/bdist.linux-x86_64/egg/scHiCTools/load/ContactMaps.py to ContactMaps.cpython-37.pyc\n",
      "byte-compiling build/bdist.linux-x86_64/egg/scHiCTools/load/load_hic_file.py to load_hic_file.cpython-37.pyc\n",
      "creating build/bdist.linux-x86_64/egg/EGG-INFO\n",
      "copying scHiCTools.egg-info/PKG-INFO -> build/bdist.linux-x86_64/egg/EGG-INFO\n",
      "copying scHiCTools.egg-info/SOURCES.txt -> build/bdist.linux-x86_64/egg/EGG-INFO\n",
      "copying scHiCTools.egg-info/dependency_links.txt -> build/bdist.linux-x86_64/egg/EGG-INFO\n",
      "copying scHiCTools.egg-info/requires.txt -> build/bdist.linux-x86_64/egg/EGG-INFO\n",
      "copying scHiCTools.egg-info/top_level.txt -> build/bdist.linux-x86_64/egg/EGG-INFO\n",
      "zip_safe flag not set; analyzing archive contents...\n",
      "scHiCTools.load.__pycache__.load_hic_file.cpython-37: module references __file__\n",
      "creating 'dist/scHiCTools-0.0.3-py3.7.egg' and adding 'build/bdist.linux-x86_64/egg' to it\n",
      "removing 'build/bdist.linux-x86_64/egg' (and everything under it)\n",
      "Processing scHiCTools-0.0.3-py3.7.egg\n",
      "creating /usr/local/lib/python3.7/dist-packages/scHiCTools-0.0.3-py3.7.egg\n",
      "Extracting scHiCTools-0.0.3-py3.7.egg to /usr/local/lib/python3.7/dist-packages\n",
      "Adding scHiCTools 0.0.3 to easy-install.pth file\n",
      "\n",
      "Installed /usr/local/lib/python3.7/dist-packages/scHiCTools-0.0.3-py3.7.egg\n",
      "Processing dependencies for scHiCTools==0.0.3\n",
      "Searching for simplejson\n",
      "Reading https://pypi.org/simple/simplejson/\n",
      "Downloading https://files.pythonhosted.org/packages/a8/04/377418ac1e530ce2a196b54c6552c018fdf1fe776718053efb1f216bffcd/simplejson-3.17.2-cp37-cp37m-manylinux2010_x86_64.whl#sha256=d4813b30cb62d3b63ccc60dd12f2121780c7a3068db692daeb90f989877aaf04\n",
      "Best match: simplejson 3.17.2\n",
      "Processing simplejson-3.17.2-cp37-cp37m-manylinux2010_x86_64.whl\n",
      "Installing simplejson-3.17.2-cp37-cp37m-manylinux2010_x86_64.whl to /usr/local/lib/python3.7/dist-packages\n",
      "Adding simplejson 3.17.2 to easy-install.pth file\n",
      "\n",
      "Installed /usr/local/lib/python3.7/dist-packages/simplejson-3.17.2-py3.7-linux-x86_64.egg\n",
      "Searching for h5py==2.10.0\n",
      "Best match: h5py 2.10.0\n",
      "Adding h5py 2.10.0 to easy-install.pth file\n",
      "\n",
      "Using /usr/local/lib/python3.7/dist-packages\n",
      "Searching for six==1.15.0\n",
      "Best match: six 1.15.0\n",
      "Adding six 1.15.0 to easy-install.pth file\n",
      "\n",
      "Using /usr/local/lib/python3.7/dist-packages\n",
      "Searching for pandas==1.1.5\n",
      "Best match: pandas 1.1.5\n",
      "Adding pandas 1.1.5 to easy-install.pth file\n",
      "\n",
      "Using /usr/local/lib/python3.7/dist-packages\n",
      "Searching for matplotlib==3.2.2\n",
      "Best match: matplotlib 3.2.2\n",
      "Adding matplotlib 3.2.2 to easy-install.pth file\n",
      "\n",
      "Using /usr/local/lib/python3.7/dist-packages\n",
      "Searching for scipy==1.4.1\n",
      "Best match: scipy 1.4.1\n",
      "Adding scipy 1.4.1 to easy-install.pth file\n",
      "\n",
      "Using /usr/local/lib/python3.7/dist-packages\n",
      "Searching for numpy==1.19.5\n",
      "Best match: numpy 1.19.5\n",
      "Adding numpy 1.19.5 to easy-install.pth file\n",
      "Installing f2py script to /usr/local/bin\n",
      "Installing f2py3 script to /usr/local/bin\n",
      "Installing f2py3.7 script to /usr/local/bin\n",
      "\n",
      "Using /usr/local/lib/python3.7/dist-packages\n",
      "Searching for pytz==2018.9\n",
      "Best match: pytz 2018.9\n",
      "Adding pytz 2018.9 to easy-install.pth file\n",
      "\n",
      "Using /usr/local/lib/python3.7/dist-packages\n",
      "Searching for python-dateutil==2.8.1\n",
      "Best match: python-dateutil 2.8.1\n",
      "Adding python-dateutil 2.8.1 to easy-install.pth file\n",
      "\n",
      "Using /usr/local/lib/python3.7/dist-packages\n",
      "Searching for cycler==0.10.0\n",
      "Best match: cycler 0.10.0\n",
      "Adding cycler 0.10.0 to easy-install.pth file\n",
      "\n",
      "Using /usr/local/lib/python3.7/dist-packages\n",
      "Searching for kiwisolver==1.3.1\n",
      "Best match: kiwisolver 1.3.1\n",
      "Adding kiwisolver 1.3.1 to easy-install.pth file\n",
      "\n",
      "Using /usr/local/lib/python3.7/dist-packages\n",
      "Searching for pyparsing==2.4.7\n",
      "Best match: pyparsing 2.4.7\n",
      "Adding pyparsing 2.4.7 to easy-install.pth file\n",
      "\n",
      "Using /usr/local/lib/python3.7/dist-packages\n",
      "Finished processing dependencies for scHiCTools==0.0.3\n"
     ]
    }
   ],
   "source": [
    "% cd /content/drive/MyDrive/毕设/scHiCTools\n",
    "! python setup.py install"
   ]
  },
  {
   "cell_type": "code",
   "execution_count": 2,
   "metadata": {
    "executionInfo": {
     "elapsed": 46882,
     "status": "ok",
     "timestamp": 1621304699677,
     "user": {
      "displayName": "Sicheng Wang",
      "photoUrl": "https://lh3.googleusercontent.com/a-/AOh14GjGd4TielA7TOD0TBpmvgjXTnlJT_1Tjx2xnN1q=s64",
      "userId": "14545742446481527333"
     },
     "user_tz": -480
    },
    "id": "PqAhvgeL1HcV"
   },
   "outputs": [],
   "source": [
    "import matplotlib.pyplot as plt\n",
    "import numpy as np\n",
    "from scHiCTools import scHiCs\n",
    "from scHiCTools import scatter\n",
    "labels = np.load(\"../data/Ramani/cell_label.npy\")\n",
    "all_cells = open('../data/Ramani/all_cells.txt').readlines()\n",
    "cell_files = ['../data/Ramani/cell_matrix_data_schictools/' + cellname.strip() for cellname in all_cells]"
   ]
  },
  {
   "cell_type": "code",
   "execution_count": 3,
   "metadata": {
    "colab": {
     "base_uri": "https://localhost:8080/",
     "height": 329
    },
    "executionInfo": {
     "elapsed": 552043,
     "status": "ok",
     "timestamp": 1621305204848,
     "user": {
      "displayName": "Sicheng Wang",
      "photoUrl": "https://lh3.googleusercontent.com/a-/AOh14GjGd4TielA7TOD0TBpmvgjXTnlJT_1Tjx2xnN1q=s64",
      "userId": "14545742446481527333"
     },
     "user_tz": -480
    },
    "id": "DObNCP1g7b_F",
    "outputId": "1729618d-9d5e-4334-d360-6ab21b6d6b58"
   },
   "outputs": [
    {
     "name": "stdout",
     "output_type": "stream",
     "text": [
      "Loading HiC data...\n",
      "[==================================================] 493/493 \t"
     ]
    },
    {
     "data": {
      "image/png": "[encoded data removed]",
      "text/plain": [
       "<Figure size 432x288 with 2 Axes>"
      ]
     },
     "metadata": {
      "needs_background": "light",
      "tags": []
     },
     "output_type": "display_data"
    }
   ],
   "source": [
    "y = scHiCs(cell_files,\n",
    "        reference_genome='hg19', resolution=1000000,\n",
    "        max_distance=None, format='shortest_score',\n",
    "        adjust_resolution=False, chromosomes='except Y',\n",
    "        operations=['convolution'], kernel_shape=3, keep_n_strata=5,\n",
    "        store_full_map=True)\n",
    "\n",
    "y.plot_contacts()\n"
   ]
  },
  {
   "cell_type": "code",
   "execution_count": 15,
   "metadata": {
    "colab": {
     "base_uri": "https://localhost:8080/",
     "height": 444
    },
    "executionInfo": {
     "elapsed": 2622,
     "status": "ok",
     "timestamp": 1621305711403,
     "user": {
      "displayName": "Sicheng Wang",
      "photoUrl": "https://lh3.googleusercontent.com/a-/AOh14GjGd4TielA7TOD0TBpmvgjXTnlJT_1Tjx2xnN1q=s64",
      "userId": "14545742446481527333"
     },
     "user_tz": -480
    },
    "id": "scpMwB1LWYrs",
    "outputId": "dbf99a03-6bfe-40d0-bc92-f7aa2e30638e"
   },
   "outputs": [
    {
     "data": {
      "image/png": "[encoded data removed]",
      "text/plain": [
       "<Figure size 720x504 with 1 Axes>"
      ]
     },
     "metadata": {
      "needs_background": "light",
      "tags": []
     },
     "output_type": "display_data"
    }
   ],
   "source": [
    "matrix_reduce = y.learn_embedding(similarity_method='HiCRep', dim=100,\n",
    "                embedding_method='MDS',\n",
    "                aggregation='median')\n",
    "cell1_x = []; cell1_y = []\n",
    "cell2_x = []; cell2_y = []\n",
    "cell3_x = []; cell3_y = []\n",
    "cell4_x = []; cell4_y = []\n",
    "for i in range(len(matrix_reduce)):\n",
    "    if labels[i] == 'HeLa':\n",
    "        cell1_x.append(matrix_reduce[i][0])\n",
    "        cell1_y.append(matrix_reduce[i][1])\n",
    "    if labels[i] == 'HAP1':\n",
    "        cell2_x.append(matrix_reduce[i][0])\n",
    "        cell2_y.append(matrix_reduce[i][1])\n",
    "    if labels[i] == 'K562':\n",
    "        cell3_x.append(matrix_reduce[i][0])\n",
    "        cell3_y.append(matrix_reduce[i][1])\n",
    "    if labels[i] == 'GM12878':\n",
    "        cell4_x.append(matrix_reduce[i][0])\n",
    "        cell4_y.append(matrix_reduce[i][1])\n",
    "\n",
    "fig, ax = plt.subplots(figsize=(10,7))\n",
    "cell1 = ax.scatter(cell1_x, cell1_y, c = '#1f77b4')\n",
    "cell2 = ax.scatter(cell2_x, cell2_y, c = '#ff7f0e')\n",
    "cell3 = ax.scatter(cell3_x, cell3_y, c = '#d62728')\n",
    "cell4 = ax.scatter(cell4_x, cell4_y, c = '#2ca02c')\n",
    "\n",
    "ax.legend((cell1, cell2, cell3, cell4), ('HeLa', 'HAP1', 'K562', 'GM12878'), loc = 0)\n",
    "ax.set_title('PCA')\n",
    "plt.show()"
   ]
  },
  {
   "cell_type": "code",
   "execution_count": 12,
   "metadata": {
    "colab": {
     "base_uri": "https://localhost:8080/",
     "height": 444
    },
    "executionInfo": {
     "elapsed": 5783,
     "status": "ok",
     "timestamp": 1621305405013,
     "user": {
      "displayName": "Sicheng Wang",
      "photoUrl": "https://lh3.googleusercontent.com/a-/AOh14GjGd4TielA7TOD0TBpmvgjXTnlJT_1Tjx2xnN1q=s64",
      "userId": "14545742446481527333"
     },
     "user_tz": -480
    },
    "id": "SOGE0jC5TJEZ",
    "outputId": "2ad63133-2012-47b5-cfe9-7634f1a2a88b"
   },
   "outputs": [
    {
     "data": {
      "image/png": "[encoded data removed]",
      "text/plain": [
       "<Figure size 720x504 with 1 Axes>"
      ]
     },
     "metadata": {
      "needs_background": "light",
      "tags": []
     },
     "output_type": "display_data"
    }
   ],
   "source": [
    "from sklearn import manifold\n",
    "tsne = manifold.TSNE(n_components=2, init='pca')\n",
    "z_embedded = tsne.fit_transform(matrix_reduce)\n",
    "\n",
    "cell_type = {'HeLa': 0, 'HAP1': 1, 'GM12878': 2, 'K562': 3}\n",
    "\n",
    "cell_x = {}\n",
    "cell_y = {}\n",
    "for key in cell_type.keys():\n",
    "    cell_x[key] = []\n",
    "    cell_y[key] = []\n",
    "for i in range(len(z_embedded)):\n",
    "    cell_x[labels[i]].append(z_embedded[i][0])\n",
    "    cell_y[labels[i]].append(z_embedded[i][1])\n",
    "\n",
    "import matplotlib.pyplot as plt\n",
    "fig, ax = plt.subplots(figsize=(10,7))\n",
    "cell_ax = []\n",
    "label_ax = []\n",
    "for key in cell_type.keys():\n",
    "    cell_ax.append(ax.scatter(cell_x[key], cell_y[key]))\n",
    "    label_ax.append(key)\n",
    "\n",
    "ax.legend(cell_ax, label_ax, loc = 0)\n",
    "ax.set_title('t-SNE')\n",
    "plt.show()"
   ]
  },
  {
   "cell_type": "code",
   "execution_count": 6,
   "metadata": {
    "colab": {
     "base_uri": "https://localhost:8080/"
    },
    "executionInfo": {
     "elapsed": 5867,
     "status": "ok",
     "timestamp": 1621305268297,
     "user": {
      "displayName": "Sicheng Wang",
      "photoUrl": "https://lh3.googleusercontent.com/a-/AOh14GjGd4TielA7TOD0TBpmvgjXTnlJT_1Tjx2xnN1q=s64",
      "userId": "14545742446481527333"
     },
     "user_tz": -480
    },
    "id": "w4EHEPrED2Ds",
    "outputId": "8e61ed6d-0617-4e97-fc00-a124cbcf2d62"
   },
   "outputs": [
    {
     "name": "stdout",
     "output_type": "stream",
     "text": [
      "0.8417849898580122 0.8287827040492229 0.7511828462146273\n"
     ]
    }
   ],
   "source": [
    "# ACC NMI ARI\n",
    "def f_acc(y_true, y_pred):\n",
    "    y_true = y_true.astype(np.int64)\n",
    "    assert y_pred.size == y_true.size\n",
    "    D = max(y_pred.max(), y_true.max()) + 1\n",
    "    w = np.zeros((D, D), dtype=np.int64)\n",
    "    for i in range(y_pred.size):\n",
    "        w[y_pred[i], y_true[i]] += 1\n",
    "    from scipy.optimize import linear_sum_assignment as linear_assignment\n",
    "    ind = linear_assignment(w.max() - w)\n",
    "    ind = np.asarray(ind)\n",
    "    ind = np.transpose(ind)\n",
    "    return sum([w[i, j] for i, j in ind]) * 1.0 / y_pred.size\n",
    "\n",
    "from sklearn.metrics import adjusted_rand_score\n",
    "from sklearn.cluster import KMeans\n",
    "from sklearn.metrics.cluster import normalized_mutual_info_score\n",
    "y_pred = KMeans(n_clusters = 4, n_init = 20).fit_predict(matrix_reduce)\n",
    "\n",
    "change_dict = {\"HeLa\":0, \"HAP1\":1, \"GM12878\":2, \"K562\":3}\n",
    "acc = f_acc(np.array([change_dict[label] for label in labels]), y_pred)\n",
    "nmi = normalized_mutual_info_score(labels, y_pred)\n",
    "ari = adjusted_rand_score(labels, y_pred)\n",
    "print(acc, nmi, ari)"
   ]
  },
  {
   "cell_type": "markdown",
   "metadata": {
    "id": "GTxoq8qiO62p"
   },
   "source": [
    "# scHiCluster"
   ]
  },
  {
   "cell_type": "markdown",
   "metadata": {
    "id": "PKNfbl2kGAyB"
   },
   "source": [
    "## 按完整矩阵存"
   ]
  },
  {
   "cell_type": "code",
   "execution_count": null,
   "metadata": {
    "colab": {
     "base_uri": "https://localhost:8080/"
    },
    "executionInfo": {
     "elapsed": 342109,
     "status": "ok",
     "timestamp": 1608456016680,
     "user": {
      "displayName": "Sicheng Wang",
      "photoUrl": "https://lh3.googleusercontent.com/a-/AOh14GjGd4TielA7TOD0TBpmvgjXTnlJT_1Tjx2xnN1q=s64",
      "userId": "14545742446481527333"
     },
     "user_tz": -480
    },
    "id": "g1OcEXeGFGvJ",
    "outputId": "4e56daac-017b-46aa-cb5b-36b644a3c5a1"
   },
   "outputs": [
    {
     "name": "stdout",
     "output_type": "stream",
     "text": [
      "Loading HiC data...\n",
      "[==================================================] 493/493 \t"
     ]
    }
   ],
   "source": [
    "y = scHiCs(cell_files,\n",
    "        reference_genome='hg19', resolution=1000000,\n",
    "        max_distance=None, format='shortest_score',\n",
    "        adjust_resolution=False, chromosomes='except Y',\n",
    "        operations=['log2', 'convolution', 'random_walk'], kernel_shape=3, keep_n_strata=None,\n",
    "        store_full_map=True)"
   ]
  },
  {
   "cell_type": "code",
   "execution_count": null,
   "metadata": {
    "id": "YqHxjh2Pc-kw"
   },
   "outputs": [],
   "source": [
    "# top20 二值化\n",
    "full_maps_new = {}\n",
    "for ch in y.chromosomes:\n",
    "    A = y.full_maps[ch].copy()\n",
    "    shape_ori = A.shape\n",
    "    A.shape = (A.shape[0],A.shape[1]*A.shape[2])\n",
    "    thres = np.percentile(A, 80, axis=1)\n",
    "    A = (A > thres[:,None])\n",
    "    A.shape = shape_ori\n",
    "    full_maps_new[ch] = A\n",
    "print(A.shape)\n",
    "\n",
    "embedding_data = []\n",
    "for i in range(len(cell_files)):\n",
    "    cell_dict = {}\n",
    "    for chr in full_maps_new.keys():\n",
    "        cell_dict[chr] = full_maps_new[chr][i]\n",
    "    embedding_data.append(cell_dict)\n",
    "\n",
    "np.save(\"../data/Ramani/cell_matrix_scHiCluster_01.npy\", embedding_data)"
   ]
  },
  {
   "cell_type": "code",
   "execution_count": null,
   "metadata": {
    "id": "sgvvbR2ZG9gg"
   },
   "outputs": [],
   "source": [
    "embedding_data = np.load(\"../data/Ramani/cell_matrix_scHiCluster_01.npy\", allow_pickle=True)"
   ]
  },
  {
   "cell_type": "code",
   "execution_count": null,
   "metadata": {
    "colab": {
     "base_uri": "https://localhost:8080/"
    },
    "executionInfo": {
     "elapsed": 842,
     "status": "ok",
     "timestamp": 1608456497215,
     "user": {
      "displayName": "Sicheng Wang",
      "photoUrl": "https://lh3.googleusercontent.com/a-/AOh14GjGd4TielA7TOD0TBpmvgjXTnlJT_1Tjx2xnN1q=s64",
      "userId": "14545742446481527333"
     },
     "user_tz": -480
    },
    "id": "iPCoW8BMIgQY",
    "outputId": "9aeadcf4-0d45-4612-c347-e9293a806b4d"
   },
   "outputs": [
    {
     "name": "stdout",
     "output_type": "stream",
     "text": [
      "(250, 250)\n",
      "(244, 244)\n",
      "(156, 156)\n"
     ]
    }
   ],
   "source": [
    "print(embedding_data[0]['chr1'].shape)\n",
    "print(embedding_data[0]['chr2'].shape)\n",
    "print(embedding_data[0]['chrX'].shape)"
   ]
  },
  {
   "cell_type": "markdown",
   "metadata": {
    "id": "qejy6lqYS4Us"
   },
   "source": [
    "## 用原scHiCluster代码检验"
   ]
  },
  {
   "cell_type": "code",
   "execution_count": 16,
   "metadata": {
    "colab": {
     "base_uri": "https://localhost:8080/"
    },
    "executionInfo": {
     "elapsed": 442536,
     "status": "ok",
     "timestamp": 1621306181427,
     "user": {
      "displayName": "Sicheng Wang",
      "photoUrl": "https://lh3.googleusercontent.com/a-/AOh14GjGd4TielA7TOD0TBpmvgjXTnlJT_1Tjx2xnN1q=s64",
      "userId": "14545742446481527333"
     },
     "user_tz": -480
    },
    "id": "JPZB1h2vZnVC",
    "outputId": "d56f5bdd-2ec6-4c5e-b6b7-29db525e8148"
   },
   "outputs": [
    {
     "name": "stdout",
     "output_type": "stream",
     "text": [
      "Loading HiC data...\n",
      "[==================================================] 493/493 \tmatrix.shape: (493, 460)\n"
     ]
    }
   ],
   "source": [
    "#利用原代码检查schictools数据是否正确\n",
    "from sklearn.decomposition import PCA\n",
    "import numpy as np\n",
    "from scHiCTools import scHiCs\n",
    "from scHiCTools import scatter\n",
    "labels = np.load(\"../data/Ramani/cell_label.npy\")\n",
    "all_cells = open('../data/Ramani/all_cells.txt').readlines()\n",
    "cell_files = ['../data/Ramani/cell_matrix_data_schictools/' + cellname.strip() for cellname in all_cells]\n",
    "\n",
    "y = scHiCs(cell_files,\n",
    "        reference_genome='hg19', resolution=1000000,\n",
    "        max_distance=None, format='shortest_score',\n",
    "        adjust_resolution=False, chromosomes='except Y',\n",
    "        operations=['log2', 'convolution', 'random_walk'], kernel_shape=3, keep_n_strata=None,\n",
    "        store_full_map=True)\n",
    "matrix = []\n",
    "for ch in y.chromosomes:\n",
    "    A = y.full_maps[ch].copy()\n",
    "    A.shape = (A.shape[0],A.shape[1]*A.shape[2])\n",
    "    thres = np.percentile(A, 80, axis=1)\n",
    "    A = (A > thres[:,None])\n",
    "    pca = PCA(n_components = 20)\n",
    "    R_reduce = pca.fit_transform(A)\n",
    "    matrix.append(R_reduce)\n",
    "matrix = np.concatenate(matrix, axis=1)\n",
    "print('matrix.shape:', matrix.shape)\n",
    "\n",
    "pca = PCA(n_components = 100)\n",
    "matrix_reduce = pca.fit_transform(matrix)\n",
    "ding_schicluster_100d.npy\",matrix_reduce[:,:100])\n"
   ]
  },
  {
   "cell_type": "code",
   "execution_count": 17,
   "metadata": {
    "colab": {
     "base_uri": "https://localhost:8080/",
     "height": 0
    },
    "executionInfo": {
     "elapsed": 438100,
     "status": "ok",
     "timestamp": 1621306181428,
     "user": {
      "displayName": "Sicheng Wang",
      "photoUrl": "https://lh3.googleusercontent.com/a-/AOh14GjGd4TielA7TOD0TBpmvgjXTnlJT_1Tjx2xnN1q=s64",
      "userId": "14545742446481527333"
     },
     "user_tz": -480
    },
    "id": "o4a3jYiioWwD",
    "outputId": "1a348cb4-a0f4-450f-d213-faaf259a9d90"
   },
   "outputs": [
    {
     "data": {
      "image/png": "[encoded data removed]",
      "text/plain": [
       "<Figure size 720x504 with 1 Axes>"
      ]
     },
     "metadata": {
      "needs_background": "light",
      "tags": []
     },
     "output_type": "display_data"
    }
   ],
   "source": [
    "cell1_x = []; cell1_y = []\n",
    "cell2_x = []; cell2_y = []\n",
    "cell3_x = []; cell3_y = []\n",
    "cell4_x = []; cell4_y = []\n",
    "for i in range(len(matrix_reduce)):\n",
    "if labels[i] == 'HeLa':\n",
    "    cell1_x.append(matrix_reduce[i][0])\n",
    "    cell1_y.append(matrix_reduce[i][1])\n",
    "if labels[i] == 'HAP1':\n",
    "    cell2_x.append(matrix_reduce[i][0])\n",
    "    cell2_y.append(matrix_reduce[i][1])\n",
    "if labels[i] == 'K562':\n",
    "    cell3_x.append(matrix_reduce[i][0])\n",
    "    cell3_y.append(matrix_reduce[i][1])\n",
    "if labels[i] == 'GM12878':\n",
    "    cell4_x.append(matrix_reduce[i][0])\n",
    "    cell4_y.append(matrix_reduce[i][1])\n",
    "\n",
    "import matplotlib.pyplot as plt\n",
    "fig, ax = plt.subplots(figsize=(10,7))\n",
    "cell1 = ax.scatter(cell1_x, cell1_y, c = '#1f77b4')\n",
    "cell2 = ax.scatter(cell2_x, cell2_y, c = '#ff7f0e')\n",
    "cell3 = ax.scatter(cell3_x, cell3_y, c = '#d62728')\n",
    "cell4 = ax.scatter(cell4_x, cell4_y, c = '#2ca02c')\n",
    "\n",
    "ax.legend((cell1, cell2, cell3, cell4), ('HeLa', 'HAP1', 'K562', 'GM12878'), loc = 0)\n",
    "ax.set_title('PCA')\n",
    "plt.show()\n"
   ]
  },
  {
   "cell_type": "code",
   "execution_count": 18,
   "metadata": {
    "colab": {
     "base_uri": "https://localhost:8080/",
     "height": 444
    },
    "executionInfo": {
     "elapsed": 440772,
     "status": "ok",
     "timestamp": 1621306185540,
     "user": {
      "displayName": "Sicheng Wang",
      "photoUrl": "https://lh3.googleusercontent.com/a-/AOh14GjGd4TielA7TOD0TBpmvgjXTnlJT_1Tjx2xnN1q=s64",
      "userId": "14545742446481527333"
     },
     "user_tz": -480
    },
    "id": "SsoOGxCRVuye",
    "outputId": "63e66dfe-959c-4a47-cbdb-0ed3b1ce1f04"
   },
   "outputs": [
    {
     "data": {
      "image/png": "[encoded data removed]",
      "text/plain": [
       "<Figure size 720x504 with 1 Axes>"
      ]
     },
     "metadata": {
      "needs_background": "light",
      "tags": []
     },
     "output_type": "display_data"
    }
   ],
   "source": [
    "from sklearn import manifold\n",
    "tsne = manifold.TSNE(n_components=2, init='pca')\n",
    "z_embedded = tsne.fit_transform(matrix_reduce)\n",
    "\n",
    "cell_type = {'HeLa': 0, 'HAP1': 1, 'GM12878': 2, 'K562': 3}\n",
    "\n",
    "cell_x = {}\n",
    "cell_y = {}\n",
    "for key in cell_type.keys():\n",
    "    cell_x[key] = []\n",
    "    cell_y[key] = []\n",
    "for i in range(len(z_embedded)):\n",
    "    cell_x[labels[i]].append(z_embedded[i][0])\n",
    "    cell_y[labels[i]].append(z_embedded[i][1])\n",
    "\n",
    "import matplotlib.pyplot as plt\n",
    "fig, ax = plt.subplots(figsize=(10,7))\n",
    "cell_ax = []\n",
    "label_ax = []\n",
    "for key in cell_type.keys():\n",
    "    cell_ax.append(ax.scatter(cell_x[key], cell_y[key]))\n",
    "    label_ax.append(key)\n",
    "\n",
    "ax.legend(cell_ax, label_ax, loc = 0)\n",
    "ax.set_title('t-SNE')\n",
    "plt.show()"
   ]
  },
  {
   "cell_type": "code",
   "execution_count": null,
   "metadata": {
    "id": "UglT4X0846Mt"
   },
   "outputs": [],
   "source": [
    "# ACC NMI ARI\n",
    "def f_acc(y_true, y_pred):\n",
    "    y_true = y_true.astype(np.int64)\n",
    "    assert y_pred.size == y_true.size\n",
    "    D = max(y_pred.max(), y_true.max()) + 1\n",
    "    w = np.zeros((D, D), dtype=np.int64)\n",
    "    for i in range(y_pred.size):\n",
    "        w[y_pred[i], y_true[i]] += 1\n",
    "    from scipy.optimize import linear_sum_assignment as linear_assignment\n",
    "    ind = linear_assignment(w.max() - w)\n",
    "    ind = np.asarray(ind)\n",
    "    ind = np.transpose(ind)\n",
    "    return sum([w[i, j] for i, j in ind]) * 1.0 / y_pred.size\n",
    "\n",
    "from sklearn.metrics import adjusted_rand_score\n",
    "from sklearn.cluster import KMeans\n",
    "from sklearn.metrics.cluster import normalized_mutual_info_score\n",
    "y_pred = KMeans(n_clusters = 4, n_init = 20).fit_predict(matrix_reduce)\n",
    "\n",
    "change_dict = {\"HeLa\":0, \"HAP1\":1, \"GM12878\":2, \"K562\":3}\n",
    "acc = f_acc(np.array([change_dict[label] for label in labels]), y_pred)\n",
    "nmi = normalized_mutual_info_score(labels, y_pred)\n",
    "ari = adjusted_rand_score(labels, y_pred)\n",
    "print(acc, nmi, ari)"
   ]
  }
 ],
 "metadata": {
  "colab": {
   "authorship_tag": "ABX9TyOw8xNX/BRbtoLPl5l/Lijy",
   "collapsed_sections": [],
   "mount_file_id": "1tswg0ux-gbKzFovespdIE01V7M7HTbL8",
   "name": "Ramani(scHiCTools).ipynb",
   "provenance": [],
   "toc_visible": true
  },
  "kernelspec": {
   "display_name": "Python [default]",
   "language": "python",
   "name": "python3"
  },
  "language_info": {
   "codemirror_mode": {
    "name": "ipython",
    "version": 3
   },
   "file_extension": ".py",
   "mimetype": "text/x-python",
   "name": "python",
   "nbconvert_exporter": "python",
   "pygments_lexer": "ipython3",
   "version": "3.5.6"
  },
  "toc": {
   "base_numbering": 1,
   "nav_menu": {},
   "number_sections": true,
   "sideBar": true,
   "skip_h1_title": false,
   "title_cell": "Table of Contents",
   "title_sidebar": "Contents",
   "toc_cell": false,
   "toc_position": {},
   "toc_section_display": true,
   "toc_window_display": true
  },
  "varInspector": {
   "cols": {
    "lenName": 16,
    "lenType": 16,
    "lenVar": 40
   },
   "kernels_config": {
    "python": {
     "delete_cmd_postfix": "",
     "delete_cmd_prefix": "del ",
     "library": "var_list.py",
     "varRefreshCmd": "print(var_dic_list())"
    },
    "r": {
     "delete_cmd_postfix": ") ",
     "delete_cmd_prefix": "rm(",
     "library": "var_list.r",
     "varRefreshCmd": "cat(var_dic_list()) "
    }
   },
   "types_to_exclude": [
    "module",
    "function",
    "builtin_function_or_method",
    "instance",
    "_Feature"
   ],
   "window_display": false
  }
 },
 "nbformat": 4,
 "nbformat_minor": 1
}
