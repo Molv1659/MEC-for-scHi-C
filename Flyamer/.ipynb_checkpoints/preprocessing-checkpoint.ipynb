{
 "cells": [
  {
   "cell_type": "markdown",
   "metadata": {},
   "source": [
    "# 数据分析"
   ]
  },
  {
   "cell_type": "markdown",
   "metadata": {},
   "source": [
    "## 数据load & filter"
   ]
  },
  {
   "cell_type": "code",
   "execution_count": 1,
   "metadata": {},
   "outputs": [],
   "source": [
    "import gzip\n",
    "import numpy as np\n",
    "\n",
    "def un_gz(file_name):\n",
    "    g_file = gzip.GzipFile(file_name)   \n",
    "    return g_file.readlines()\n",
    "\n",
    "def get_label_3(name):\n",
    "    ans = name.split(\"_\")\n",
    "    if ans[2] == 'oocyte' or 'Hoechst' in name:\n",
    "        return 'oocyte'\n",
    "    else:\n",
    "        return '_'.join(ans[2].split('-')[0:2])\n",
    "    \n",
    "def get_label_4(name):\n",
    "    ans = name.split(\"_\")\n",
    "    if ans[2] == 'oocyte':\n",
    "        outputs = 'oocyte_' + ans[3].split('-')[0]\n",
    "        return outputs\n",
    "    elif 'Hoechst' in name:\n",
    "        return 'oocyte_' + ans[2].split('-')[0]\n",
    "    else:\n",
    "        return '_'.join(ans[2].split('-')[0:2])\n",
    "\n",
    "def get_label_num(name):\n",
    "    ans = name.split(\"_\")\n",
    "    if ans[2] == 'oocyte' or 'Hoechst' in name:\n",
    "        return 0\n",
    "    else:\n",
    "        if ans[2].split('-')[1] == 'male':\n",
    "            return 1\n",
    "        else:\n",
    "            return 2\n",
    "        \n",
    "        \n",
    "mm9_chromsize = {'chr1': 197195432,\n",
    "'chr2': 181748087,\n",
    "'chr3': 159599783,\n",
    "'chr4': 155630120,\n",
    "'chr5': 152537259,\n",
    "'chr6': 149517037,\n",
    "'chr7': 152524553,\n",
    "'chr8': 131738871,\n",
    "'chr9': 124076172,\n",
    "'chr10': 129993255,\n",
    "'chr11': 121843856,\n",
    "'chr12': 121257530,\n",
    "'chr13': 120284312,\n",
    "'chr14': 125194864,\n",
    "'chr15': 103494974,\n",
    "'chr16': 98319150,\n",
    "'chr17': 95272651,\n",
    "'chr18': 90772031,\n",
    "'chr19': 61342430,\n",
    "'chrX': 166650296}\n",
    "\n",
    "def quality_check(cell_dict):\n",
    "    total_contact = 0\n",
    "    for key, matrix in cell_dict.items():\n",
    "        matrix_non_diag = np.triu(matrix) - np.diag(np.diag(matrix))\n",
    "        contact_num = matrix_non_diag.sum()\n",
    "#         if contact_num < mm9_chromsize[key] // 20000000:\n",
    "#             return False\n",
    "        total_contact += contact_num\n",
    "    if total_contact > 5000:\n",
    "        return True\n",
    "    else:\n",
    "        return False\n",
    "    \n",
    "def process_one_cell(path, filename):\n",
    "    cell_dict = {}\n",
    "    for key,value in mm9_chromsize.items():\n",
    "        length = value // 1000000 + 1\n",
    "        cell_dict[key] = np.zeros([length, length])\n",
    "    dataframe = un_gz(path + filename)\n",
    "    for line in dataframe[1:]:\n",
    "        chr1, chr2, s1, e1, s2, e2, num = line.decode('UTF-8').strip().split(',')\n",
    "        if chr1 == chr2:\n",
    "            bin1 = int(s1) // 1000000\n",
    "            bin2 = int(s2) // 1000000\n",
    "            cell_dict['chr' + chr1][bin1][bin2] += int(num)\n",
    "            \n",
    "    for key in mm9_chromsize.keys():\n",
    "        cell_dict[key] = cell_dict[key] + cell_dict[key].T - np.diag(np.diag(cell_dict[key]))\n",
    "    if quality_check(cell_dict):\n",
    "        return cell_dict, get_label_3(filename), get_label_4(filename), get_label_num(filename)\n",
    "    else:\n",
    "        return None, None, None, None"
   ]
  },
  {
   "cell_type": "code",
   "execution_count": 2,
   "metadata": {},
   "outputs": [],
   "source": [
    "import os\n",
    "path = \"data/raw_data/\"\n",
    "gz_files = os.listdir(path)\n",
    "cell_data = []\n",
    "cell_label_3 = []\n",
    "cell_label_4 = []\n",
    "cell_label_num = []\n",
    "for filename in gz_files:\n",
    "    cell_dict, label_3, label_4, label_num = process_one_cell(path, filename)\n",
    "    if cell_dict != None:\n",
    "        cell_data.append(cell_dict)\n",
    "        cell_label_3.append(label_3)\n",
    "        cell_label_4.append(label_4)\n",
    "        cell_label_num.append(label_num)"
   ]
  },
  {
   "cell_type": "code",
   "execution_count": 3,
   "metadata": {},
   "outputs": [
    {
     "data": {
      "text/plain": [
       "{'oocyte': 93, 'pronucleus_male': 18, 'pronucleus_female': 23}"
      ]
     },
     "execution_count": 3,
     "metadata": {},
     "output_type": "execute_result"
    }
   ],
   "source": [
    "cell_type = {'oocyte': 0, 'pronucleus_male': 0, 'pronucleus_female': 0}\n",
    "for cell in cell_label_3:\n",
    "    cell_type[cell] += 1\n",
    "cell_type\n"
   ]
  },
  {
   "cell_type": "code",
   "execution_count": 4,
   "metadata": {},
   "outputs": [],
   "source": [
    "# np.save('cell_matrix.npy', cell_data)\n",
    "# np.save('cell_label_3.npy', cell_label_3)\n",
    "# np.save('cell_label_4.npy', cell_label_4)\n",
    "# np.save('cell_label_num.npy', cell_label_num)"
   ]
  },
  {
   "cell_type": "markdown",
   "metadata": {},
   "source": [
    "## 统计一下指标"
   ]
  },
  {
   "cell_type": "code",
   "execution_count": 5,
   "metadata": {},
   "outputs": [],
   "source": [
    "import numpy as np\n",
    "cell_data = np.load('cell_matrix.npy', allow_pickle=True)"
   ]
  },
  {
   "cell_type": "code",
   "execution_count": 9,
   "metadata": {},
   "outputs": [
    {
     "name": "stdout",
     "output_type": "stream",
     "text": [
      "all counts:  (287501.46268656716, 21668.0, 190538.0, 1654572.0)\n",
      "non_diagonal_counts:  (95580.87313432836, 5137.0, 40867.0, 683165.0)\n"
     ]
    }
   ],
   "source": [
    "def get_cell_counts(cell_dict):\n",
    "    all_count, non_diagonal_count = 0, 0\n",
    "    for chr, matrix in cell_dict.items():\n",
    "        all_count += np.triu(matrix).sum()\n",
    "        non_diagonal_count += (np.triu(matrix) - np.diag(np.diag(matrix))).sum()\n",
    "    return all_count, non_diagonal_count\n",
    "\n",
    "def cal_list(array):\n",
    "    a_min = min(array)\n",
    "    a_max = max(array)\n",
    "    sum = 0\n",
    "    for i in array:\n",
    "        sum += i\n",
    "    mean = sum / len(array)\n",
    "\n",
    "    data = sorted(array)\n",
    "    length = len(array)\n",
    "    if length%2 == 0:\n",
    "        median = (data[length//2-1] + data[length//2]) / 2\n",
    "    else:\n",
    "        median = data[(length-1)//2]\n",
    "\n",
    "    return mean, a_min, median, a_max\n",
    "\n",
    "def get_statistics(cell_data):\n",
    "    all_counts = [get_cell_counts(cell)[0] for cell in cell_data]\n",
    "    non_diagonal_counts = [get_cell_counts(cell)[1] for cell in cell_data]\n",
    "    print(\"all counts: \", cal_list(all_counts))\n",
    "    print(\"non_diagonal_counts: \", cal_list(non_diagonal_counts))\n",
    "\n",
    "get_statistics(cell_data)"
   ]
  },
  {
   "cell_type": "markdown",
   "metadata": {},
   "source": [
    "## Plot 看一下\n"
   ]
  },
  {
   "cell_type": "markdown",
   "metadata": {},
   "source": [
    "### PCA"
   ]
  },
  {
   "cell_type": "code",
   "execution_count": 191,
   "metadata": {},
   "outputs": [
    {
     "name": "stdout",
     "output_type": "stream",
     "text": [
      "matrix.shape: (134, 400)\n"
     ]
    }
   ],
   "source": [
    "from sklearn.decomposition import PCA\n",
    "import numpy as np\n",
    "\n",
    "matrix = []\n",
    "chrom_matrix = {}\n",
    "chroms = [item for item in cell_data[0].keys()]\n",
    "for chrom in chroms:\n",
    "    chrom_matrix[chrom] = []\n",
    "for cell in cell_data:\n",
    "    for item in cell.items():\n",
    "        chrom_matrix[item[0]].append(item[1].reshape(1, -1))\n",
    "for chrom in chroms:\n",
    "    chrom_matrix[chrom] = np.concatenate(chrom_matrix[chrom], axis=0)\n",
    "    A = chrom_matrix[chrom]\n",
    "    pca = PCA(n_components = 20)\n",
    "    R_reduce = pca.fit_transform(A)\n",
    "    matrix.append(R_reduce)\n",
    "matrix = np.concatenate(matrix, axis=1)\n",
    "print('matrix.shape:', matrix.shape)\n",
    "\n",
    "pca = PCA(n_components = 20)\n",
    "matrix_reduce = pca.fit_transform(matrix)"
   ]
  },
  {
   "cell_type": "code",
   "execution_count": 195,
   "metadata": {},
   "outputs": [
    {
     "name": "stdout",
     "output_type": "stream",
     "text": [
      "Kmeans acc: 0.39552, NMI: 0.08873, ARI: -0.06563\n"
     ]
    }
   ],
   "source": [
    "# ACC ARI NMI\n",
    "from sklearn.cluster import KMeans\n",
    "from sklearn.metrics import adjusted_rand_score\n",
    "from sklearn.metrics.cluster import normalized_mutual_info_score\n",
    "\n",
    "def acc(y_true, y_pred):\n",
    "    \"\"\"\n",
    "    Calculate clustering accuracy. Require scikit-learn installed\n",
    "    # Arguments\n",
    "        y: true labels, numpy.array with shape `(n_samples,)`\n",
    "        y_pred: predicted labels, numpy.array with shape `(n_samples,)`\n",
    "    # Return\n",
    "        accuracy, in [0,1]\n",
    "    \"\"\"\n",
    "    y_true = y_true.astype(np.int64)\n",
    "    assert y_pred.size == y_true.size\n",
    "    D = max(y_pred.max(), y_true.max()) + 1\n",
    "    w = np.zeros((D, D), dtype=np.int64)\n",
    "    for i in range(y_pred.size):\n",
    "        w[y_pred[i], y_true[i]] += 1\n",
    "    from scipy.optimize import linear_sum_assignment as linear_assignment\n",
    "    ind = linear_assignment(w.max() - w)\n",
    "    ind = np.asarray(ind)\n",
    "    ind = np.transpose(ind)\n",
    "    return sum([w[i, j] for i, j in ind]) * 1.0 / y_pred.size\n",
    "\n",
    "y_pred = KMeans(n_clusters = 3, n_init = 200).fit_predict(matrix_reduce)\n",
    "acc = acc(np.array(cell_label_num), y_pred)\n",
    "ari = adjusted_rand_score(cell_label_3, y_pred)\n",
    "nmi = normalized_mutual_info_score(cell_label_3, y_pred)\n",
    "print(\"Kmeans acc: %.5f, NMI: %.5f, ARI: %.5f\" % (acc, nmi, ari))"
   ]
  },
  {
   "cell_type": "code",
   "execution_count": 193,
   "metadata": {},
   "outputs": [
    {
     "data": {
      "image/png": "[encoded data removed]",
      "text/plain": [
       "<Figure size 648x432 with 1 Axes>"
      ]
     },
     "metadata": {
      "needs_background": "light"
     },
     "output_type": "display_data"
    }
   ],
   "source": [
    "cell_type = {'oocyte': 93, 'pronucleus_male': 18, 'pronucleus_female': 23}\n",
    "cell_x = {}\n",
    "cell_y = {}\n",
    "for key in cell_type.keys():\n",
    "    cell_x[key] = []\n",
    "    cell_y[key] = []\n",
    "for i in range(len(matrix_reduce)):\n",
    "    cell_x[cell_label_3[i]].append(matrix_reduce[i][0])\n",
    "    cell_y[cell_label_3[i]].append(matrix_reduce[i][1])\n",
    "\n",
    "import matplotlib.pyplot as plt\n",
    "fig, ax = plt.subplots(figsize=(9,6))\n",
    "cell_ax = []\n",
    "label_ax = []\n",
    "for key in cell_type.keys():\n",
    "    cell_ax.append(ax.scatter(cell_x[key], cell_y[key]))\n",
    "    label_ax.append(key)\n",
    "\n",
    "ax.legend(cell_ax, label_ax, loc = 0)\n",
    "\n",
    "plt.show()"
   ]
  },
  {
   "cell_type": "code",
   "execution_count": 194,
   "metadata": {},
   "outputs": [
    {
     "data": {
      "image/png": "[encoded data removed]",
      "text/plain": [
       "<Figure size 648x432 with 1 Axes>"
      ]
     },
     "metadata": {
      "needs_background": "light"
     },
     "output_type": "display_data"
    }
   ],
   "source": [
    "from sklearn import manifold\n",
    "tsne = manifold.TSNE(n_components=2, init='pca')\n",
    "matrix_tsne = tsne.fit_transform(matrix_reduce)\n",
    "cell_type = {'oocyte': 114, 'pronucleus_male': 24, 'pronucleus_female': 31}\n",
    "cell_x = {}\n",
    "cell_y = {}\n",
    "for key in cell_type.keys():\n",
    "    cell_x[key] = []\n",
    "    cell_y[key] = []\n",
    "for i in range(len(matrix_reduce)):\n",
    "    cell_x[cell_label_3[i]].append(matrix_reduce[i][0])\n",
    "    cell_y[cell_label_3[i]].append(matrix_reduce[i][1])\n",
    "\n",
    "import matplotlib.pyplot as plt\n",
    "fig, ax = plt.subplots(figsize=(9,6))\n",
    "cell_ax = []\n",
    "label_ax = []\n",
    "for key in cell_type.keys():\n",
    "    cell_ax.append(ax.scatter(cell_x[key], cell_y[key], s=10))\n",
    "    label_ax.append(key)\n",
    "\n",
    "ax.legend(cell_ax, label_ax, loc = 0)\n",
    "plt.show()\n"
   ]
  },
  {
   "cell_type": "markdown",
   "metadata": {},
   "source": [
    "### scHiCluster"
   ]
  },
  {
   "cell_type": "code",
   "execution_count": 4,
   "metadata": {},
   "outputs": [
    {
     "name": "stdout",
     "output_type": "stream",
     "text": [
      "Load and impute chromosome chr1 take 3.2282299995422363 seconds\n",
      "Load and impute chromosome chr2 take 3.195491313934326 seconds\n",
      "Load and impute chromosome chr3 take 1.8015673160552979 seconds\n",
      "Load and impute chromosome chr4 take 2.9913699626922607 seconds\n",
      "Load and impute chromosome chr5 take 2.2691755294799805 seconds\n",
      "Load and impute chromosome chr6 take 3.5524749755859375 seconds\n",
      "Load and impute chromosome chr7 take 2.2792086601257324 seconds\n",
      "Load and impute chromosome chr8 take 2.100266933441162 seconds\n",
      "Load and impute chromosome chr9 take 1.4656434059143066 seconds\n",
      "Load and impute chromosome chr10 take 1.9275639057159424 seconds\n",
      "Load and impute chromosome chr11 take 1.3421735763549805 seconds\n",
      "Load and impute chromosome chr12 take 2.0283496379852295 seconds\n",
      "Load and impute chromosome chr13 take 2.7863783836364746 seconds\n",
      "Load and impute chromosome chr14 take 2.257549285888672 seconds\n",
      "Load and impute chromosome chr15 take 0.8647668361663818 seconds\n",
      "Load and impute chromosome chr16 take 1.1499137878417969 seconds\n",
      "Load and impute chromosome chr17 take 1.1831886768341064 seconds\n",
      "Load and impute chromosome chr18 take 0.8139162063598633 seconds\n",
      "Load and impute chromosome chr19 take 0.2100520133972168 seconds\n",
      "Load and impute chromosome chrX take 1.9549124240875244 seconds\n",
      "matrix.shape:  (134, 400)\n"
     ]
    }
   ],
   "source": [
    "from sklearn.decomposition import PCA\n",
    "import numpy as np\n",
    "import time\n",
    "\n",
    "def neighbor_ave_cpu(A, pad):\n",
    "    if pad==0:\n",
    "        return A\n",
    "    ngene, _ = A.shape\n",
    "    ll = pad * 2 + 1\n",
    "    B, C, D, E = [np.zeros((ngene + ll, ngene + ll)) for i in range(4)]\n",
    "    B[(pad + 1):(pad + ngene + 1), (pad + 1):(pad + ngene + 1)] = A[:]\n",
    "    F = B.cumsum(axis = 0).cumsum(axis = 1)\n",
    "    C[ll :, ll:] = F[:-ll, :-ll]\n",
    "    D[ll:, :] = F[:-ll, :]\n",
    "    E[:, ll:] = F[:, :-ll]\n",
    "    return (np.around(F + C - D - E, decimals=8)[ll:, ll:] / float(ll * ll))\n",
    "\n",
    "def random_walk_cpu(A, rp):\n",
    "    ngene, _ = A.shape\n",
    "    A = A - np.diag(np.diag(A))\n",
    "    A = A + np.diag(np.sum(A, axis=0) == 0)\n",
    "    P = np.divide(A, np.sum(A, axis = 0))\n",
    "    Q = np.eye(ngene)\n",
    "    I = np.eye(ngene)\n",
    "    for i in range(30):\n",
    "        Q_new = (1 - rp) * I + rp * np.dot(Q, P)\n",
    "        delta = np.linalg.norm(Q - Q_new)\n",
    "        Q = Q_new.copy()\n",
    "        if delta < 1e-6:\n",
    "            break\n",
    "    return Q\n",
    "\n",
    "def impute_cpu(A, pad, rp):\n",
    "#     A = np.log2(A + A.T + 1 - np.diag(np.diag(A)))\n",
    "    A = np.log2(A + 1)\n",
    "    A = neighbor_ave_cpu(A, pad)\n",
    "    Q = random_walk_cpu(A, rp)\n",
    "    return Q\n",
    "\n",
    "cell_num = len(cell_data)\n",
    "matrix = []\n",
    "for chrom, size in mm9_chromsize.items():\n",
    "    start_time = time.time()\n",
    "    size = size // 1000000 + 1\n",
    "    Q_concat = np.zeros((cell_num, size*size))\n",
    "    for j, cell in enumerate(cell_data):\n",
    "        Q_concat[j] = impute_cpu(cell_data[j][chrom], pad=1, rp=0.5).reshape(-1)\n",
    "    thres = np.percentile(Q_concat, 80, axis=1)\n",
    "    Q_concat = (Q_concat > thres[:,None])\n",
    "    end_time = time.time()\n",
    "    print('Load and impute chromosome', chrom, 'take', end_time - start_time, 'seconds')\n",
    "    pca = PCA(n_components = 20)\n",
    "    R_reduce = pca.fit_transform(Q_concat)\n",
    "#     R_reduce = Q_concat\n",
    "    matrix.append(R_reduce)\n",
    "matrix = np.concatenate(matrix, axis=1)\n",
    "print('matrix.shape: ', matrix.shape)\n",
    "pca = PCA(n_components = 100)\n",
    "matrix_reduce = pca.fit_transform(matrix)\n"
   ]
  },
  {
   "cell_type": "code",
   "execution_count": 8,
   "metadata": {},
   "outputs": [
    {
     "name": "stdout",
     "output_type": "stream",
     "text": [
      "Kmeans acc: 0.92537, NMI: 0.73568, ARI: 0.80998\n"
     ]
    }
   ],
   "source": [
    "# ACC ARI NMI\n",
    "from sklearn.cluster import KMeans\n",
    "from sklearn.metrics import adjusted_rand_score\n",
    "from sklearn.metrics.cluster import normalized_mutual_info_score\n",
    "\n",
    "def acc(y_true, y_pred):\n",
    "    \"\"\"\n",
    "    Calculate clustering accuracy. Require scikit-learn installed\n",
    "    # Arguments\n",
    "        y: true labels, numpy.array with shape `(n_samples,)`\n",
    "        y_pred: predicted labels, numpy.array with shape `(n_samples,)`\n",
    "    # Return\n",
    "        accuracy, in [0,1]\n",
    "    \"\"\"\n",
    "    y_true = y_true.astype(np.int64)\n",
    "    assert y_pred.size == y_true.size\n",
    "    D = max(y_pred.max(), y_true.max()) + 1\n",
    "    w = np.zeros((D, D), dtype=np.int64)\n",
    "    for i in range(y_pred.size):\n",
    "        w[y_pred[i], y_true[i]] += 1\n",
    "    from scipy.optimize import linear_sum_assignment as linear_assignment\n",
    "    ind = linear_assignment(w.max() - w)\n",
    "    ind = np.asarray(ind)\n",
    "    ind = np.transpose(ind)\n",
    "    return sum([w[i, j] for i, j in ind]) * 1.0 / y_pred.size\n",
    "\n",
    "y_pred = KMeans(n_clusters = 3, n_init = 200).fit_predict(matrix_reduce)\n",
    "acc = acc(np.array(cell_label_num), y_pred)\n",
    "ari = adjusted_rand_score(cell_label_3, y_pred)\n",
    "nmi = normalized_mutual_info_score(cell_label_3, y_pred)\n",
    "print(\"Kmeans acc: %.5f, NMI: %.5f, ARI: %.5f\" % (acc, nmi, ari))"
   ]
  },
  {
   "cell_type": "markdown",
   "metadata": {},
   "source": [
    "n_init=200\n",
    "Kmeans acc: 0.94030, NMI: 0.77526, ARI: 0.84143\n",
    "Kmeans acc: 0.91045, NMI: 0.71911, ARI: 0.75699\n",
    "\n",
    "n_init=2000\n",
    "Kmeans acc: 0.91791, NMI: 0.72110, ARI: 0.78842\n",
    "Kmeans acc: 0.92537, NMI: 0.74507, ARI: 0.79827"
   ]
  },
  {
   "cell_type": "code",
   "execution_count": 9,
   "metadata": {},
   "outputs": [
    {
     "data": {
      "image/png": "[encoded data removed]",
      "text/plain": [
       "<Figure size 720x504 with 1 Axes>"
      ]
     },
     "metadata": {
      "needs_background": "light"
     },
     "output_type": "display_data"
    }
   ],
   "source": [
    "cell_type = {'oocyte': 93, 'pronucleus_male': 18, 'pronucleus_female': 23}\n",
    "cell_x = {}\n",
    "cell_y = {}\n",
    "for key in cell_type.keys():\n",
    "    cell_x[key] = []\n",
    "    cell_y[key] = []\n",
    "for i in range(len(matrix_reduce)):\n",
    "    cell_x[cell_label_3[i]].append(matrix_reduce[i][0])\n",
    "    cell_y[cell_label_3[i]].append(matrix_reduce[i][1])\n",
    "\n",
    "import matplotlib.pyplot as plt\n",
    "fig, ax = plt.subplots(figsize=(10,7))\n",
    "cell_ax = []\n",
    "label_ax = []\n",
    "for key in cell_type.keys():\n",
    "    cell_ax.append(ax.scatter(cell_x[key], cell_y[key]))\n",
    "    label_ax.append(key)\n",
    "\n",
    "ax.legend(cell_ax, label_ax, loc = 0)\n",
    "ax.set_title('PCA')\n",
    "plt.show()"
   ]
  },
  {
   "cell_type": "code",
   "execution_count": 14,
   "metadata": {},
   "outputs": [
    {
     "data": {
      "image/png": "[encoded data removed]",
      "text/plain": [
       "<Figure size 720x504 with 1 Axes>"
      ]
     },
     "metadata": {
      "needs_background": "light"
     },
     "output_type": "display_data"
    }
   ],
   "source": [
    "from sklearn import manifold\n",
    "tsne = manifold.TSNE(n_components=2, init='pca')\n",
    "matrix_tsne = tsne.fit_transform(matrix_reduce)\n",
    "cell_type = {'oocyte': 114, 'pronucleus_male': 24, 'pronucleus_female': 31}\n",
    "cell_x = {}\n",
    "cell_y = {}\n",
    "for key in cell_type.keys():\n",
    "    cell_x[key] = []\n",
    "    cell_y[key] = []\n",
    "for i in range(len(matrix_reduce)):\n",
    "    cell_x[cell_label_3[i]].append(matrix_tsne[i][0])\n",
    "    cell_y[cell_label_3[i]].append(matrix_tsne[i][1])\n",
    "\n",
    "import matplotlib.pyplot as plt\n",
    "fig, ax = plt.subplots(figsize=(10,7))\n",
    "cell_ax = []\n",
    "label_ax = []\n",
    "for key in cell_type.keys():\n",
    "    cell_ax.append(ax.scatter(cell_x[key], cell_y[key]))\n",
    "    label_ax.append(key)\n",
    "\n",
    "ax.legend(cell_ax, label_ax, loc = 0)\n",
    "ax.set_title('t-SNE')\n",
    "plt.show()\n"
   ]
  },
  {
   "cell_type": "markdown",
   "metadata": {},
   "source": [
    "## scHiCluster二值化矩阵存"
   ]
  },
  {
   "cell_type": "code",
   "execution_count": 197,
   "metadata": {},
   "outputs": [
    {
     "name": "stdout",
     "output_type": "stream",
     "text": [
      "Load and impute chromosome chr1 take 5.838546514511108 seconds\n",
      "Load and impute chromosome chr2 take 3.1973929405212402 seconds\n",
      "Load and impute chromosome chr3 take 2.6359364986419678 seconds\n",
      "Load and impute chromosome chr4 take 3.365802049636841 seconds\n",
      "Load and impute chromosome chr5 take 2.9756460189819336 seconds\n",
      "Load and impute chromosome chr6 take 2.1785058975219727 seconds\n",
      "Load and impute chromosome chr7 take 4.582333564758301 seconds\n",
      "Load and impute chromosome chr8 take 4.518694639205933 seconds\n",
      "Load and impute chromosome chr9 take 2.092296600341797 seconds\n",
      "Load and impute chromosome chr10 take 3.2955336570739746 seconds\n",
      "Load and impute chromosome chr11 take 2.539118528366089 seconds\n",
      "Load and impute chromosome chr12 take 1.7128074169158936 seconds\n",
      "Load and impute chromosome chr13 take 1.9932212829589844 seconds\n",
      "Load and impute chromosome chr14 take 2.375521421432495 seconds\n",
      "Load and impute chromosome chr15 take 2.540703058242798 seconds\n",
      "Load and impute chromosome chr16 take 1.6615002155303955 seconds\n",
      "Load and impute chromosome chr17 take 2.0560779571533203 seconds\n",
      "Load and impute chromosome chr18 take 1.5959250926971436 seconds\n",
      "Load and impute chromosome chr19 take 0.20859980583190918 seconds\n",
      "Load and impute chromosome chrX take 4.246532201766968 seconds\n"
     ]
    }
   ],
   "source": [
    "from sklearn.decomposition import PCA\n",
    "import numpy as np\n",
    "import time\n",
    "\n",
    "def neighbor_ave_cpu(A, pad):\n",
    "    if pad==0:\n",
    "        return A\n",
    "    ngene, _ = A.shape\n",
    "    ll = pad * 2 + 1\n",
    "    B, C, D, E = [np.zeros((ngene + ll, ngene + ll)) for i in range(4)]\n",
    "    B[(pad + 1):(pad + ngene + 1), (pad + 1):(pad + ngene + 1)] = A[:]\n",
    "    F = B.cumsum(axis = 0).cumsum(axis = 1)\n",
    "    C[ll :, ll:] = F[:-ll, :-ll]\n",
    "    D[ll:, :] = F[:-ll, :]\n",
    "    E[:, ll:] = F[:, :-ll]\n",
    "    return (np.around(F + C - D - E, decimals=8)[ll:, ll:] / float(ll * ll))\n",
    "\n",
    "def random_walk_cpu(A, rp):\n",
    "    ngene, _ = A.shape\n",
    "    A = A - np.diag(np.diag(A))\n",
    "    A = A + np.diag(np.sum(A, axis=0) == 0)\n",
    "    P = np.divide(A, np.sum(A, axis = 0))\n",
    "    Q = np.eye(ngene)\n",
    "    I = np.eye(ngene)\n",
    "    for i in range(30):\n",
    "        Q_new = (1 - rp) * I + rp * np.dot(Q, P)\n",
    "        delta = np.linalg.norm(Q - Q_new)\n",
    "        Q = Q_new.copy()\n",
    "        if delta < 1e-6:\n",
    "            break\n",
    "    return Q\n",
    "\n",
    "def impute_cpu(A, pad, rp):\n",
    "#     A = np.log2(A + A.T + 1 - np.diag(np.diag(A)))\n",
    "    A = np.log2(A + 1)\n",
    "    A = neighbor_ave_cpu(A, pad)\n",
    "    Q = random_walk_cpu(A, rp)\n",
    "    return Q\n",
    "\n",
    "cell_num = len(cell_data)\n",
    "matrix = {}\n",
    "for chrom, size in mm9_chromsize.items():\n",
    "    start_time = time.time()\n",
    "    size = size // 1000000 + 1\n",
    "    Q_concat = np.zeros((cell_num, size*size))\n",
    "    for j, cell in enumerate(cell_data):\n",
    "        Q_concat[j] = impute_cpu(cell_data[j][chrom], pad=1, rp=0.5).reshape(-1)\n",
    "    thres = np.percentile(Q_concat, 80, axis=1)\n",
    "    Q_concat = (Q_concat > thres[:,None])\n",
    "    Q_concat = Q_concat.reshape(((cell_num, size, size)))\n",
    "    end_time = time.time()\n",
    "    print('Load and impute chromosome', chrom, 'take', end_time - start_time, 'seconds')\n",
    "    matrix[chrom] = Q_concat\n",
    "\n",
    "\n",
    "embedding_data = []\n",
    "for i in range(cell_num):\n",
    "    cell_dict = {}\n",
    "    for chr in mm9_chromsize.keys():\n",
    "        cell_dict[chr] = matrix[chr][i]\n",
    "    embedding_data.append(cell_dict)"
   ]
  },
  {
   "cell_type": "code",
   "execution_count": 198,
   "metadata": {},
   "outputs": [],
   "source": [
    "np.save(\"cell_matrix_scHiCluster_01.npy\", embedding_data)\n"
   ]
  }
 ],
 "metadata": {
  "kernelspec": {
   "display_name": "Python [default]",
   "language": "python",
   "name": "python3"
  },
  "language_info": {
   "codemirror_mode": {
    "name": "ipython",
    "version": 3
   },
   "file_extension": ".py",
   "mimetype": "text/x-python",
   "name": "python",
   "nbconvert_exporter": "python",
   "pygments_lexer": "ipython3",
   "version": "3.5.6"
  },
  "toc": {
   "base_numbering": 1,
   "nav_menu": {},
   "number_sections": true,
   "sideBar": true,
   "skip_h1_title": false,
   "title_cell": "Table of Contents",
   "title_sidebar": "Contents",
   "toc_cell": false,
   "toc_position": {
    "height": "calc(100% - 180px)",
    "left": "10px",
    "top": "150px",
    "width": "165px"
   },
   "toc_section_display": true,
   "toc_window_display": true
  },
  "varInspector": {
   "cols": {
    "lenName": 16,
    "lenType": 16,
    "lenVar": 40
   },
   "kernels_config": {
    "python": {
     "delete_cmd_postfix": "",
     "delete_cmd_prefix": "del ",
     "library": "var_list.py",
     "varRefreshCmd": "print(var_dic_list())"
    },
    "r": {
     "delete_cmd_postfix": ") ",
     "delete_cmd_prefix": "rm(",
     "library": "var_list.r",
     "varRefreshCmd": "cat(var_dic_list()) "
    }
   },
   "types_to_exclude": [
    "module",
    "function",
    "builtin_function_or_method",
    "instance",
    "_Feature"
   ],
   "window_display": false
  }
 },
 "nbformat": 4,
 "nbformat_minor": 5
}
